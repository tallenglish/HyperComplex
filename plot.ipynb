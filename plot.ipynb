{
 "cells": [
  {
   "cell_type": "markdown",
   "metadata": {},
   "source": [
    "### **`HyperComplex Plots`**\n",
    "\n",
    "The `plot()` method, which produces images so we can visualize the multiplication tables with either one or two colormaps.  Using the default options and diverging colurmap, `red` displays positive values, `blue` negative values. For example, with the complex numbers 1 => least red, i => most red, -1 => least blue, -i => most blue. \n",
    "\n",
    "For a full list of supported colormaps supported by , please visit [Matplotlib Colormaps](https://matplotlib.org/stable/tutorials/colors/colormaps.html) \n",
    "\n",
    "Default Options:\n",
    "\n",
    "- `named=None` : name of the hyper complex object to use.\n",
    "- `order=None` : order of the hyper complex object to use.\n",
    "- `filename=\"P{order}.{filetype}\"` : images filename E.g. P3.png\n",
    "- `filetype=\"png\"` : the file extension used above.\n",
    "- `figsize=6.0` : figure size in inches.\n",
    "- `figdpi=100.0` : figure dpi (pixels per inch).\n",
    "- `colormap=\"RdBu_r\"` : default matplotlib colormap to use.\n",
    "- `ncolormap=\"PiYG_r\"` : matplotlib colormap to use for negatives.\n",
    "- `diverging=False` : use diverging colormap.\n",
    "- `negatives=False` : show negative values using ncolormap above (ignored if diverging used).\n",
    "- `show=False` : show figure to screen.\n",
    "- `save=False` : save figure to disk.\n",
    "\n",
    "### **`Requirements`**\n",
    "\n",
    "The following packages are required:\n",
    "\n",
    "- argparse\n",
    "- matplotlib\n",
    "- seaborn\n",
    "- numpy\n",
    "- pylab\n",
    "\n",
    "### **`Import Plot Library`**"
   ]
  },
  {
   "cell_type": "code",
   "execution_count": null,
   "metadata": {},
   "outputs": [],
   "source": [
    "from plot import *"
   ]
  },
  {
   "cell_type": "markdown",
   "metadata": {},
   "source": [
    "### **`Complex Numbers`**\n",
    "\n",
    "A [complex number](http://en.wikipedia.org/wiki/Complex_number) is a number that can be expressed in the form `a + bi`, where `a` and `b` are real numbers and `i` is the imaginary unit, imaginary being the root of a negative square number `i = sqrt(-1)`. They are a normed division algebra over the real numbers. There is no natural linear ordering (commutativity) on the set of complex numbers."
   ]
  },
  {
   "cell_type": "code",
   "execution_count": null,
   "metadata": {},
   "outputs": [],
   "source": [
    "plot(named=\"Complex\", show=True)"
   ]
  },
  {
   "cell_type": "markdown",
   "metadata": {},
   "source": [
    "### **`Quaternion Numbers`**\n",
    "\n",
    "[Quaternions](http://en.wikipedia.org/wiki/Quaternion) are a normed division algebra over the real numbers that can be expressed in the form `a + bi + cj + dk`, where `a`, `b`, `c` and `d` are real numbers and `i`, `j`, `k` are the imaginary units.  They are noncommutative. The unit quaternions can be thought of as a choice of a group structure on the 3-sphere S3 that gives the group Spin(3), which is isomorphic to SU(2) and also to the universal cover of SO(3)."
   ]
  },
  {
   "cell_type": "code",
   "execution_count": null,
   "metadata": {},
   "outputs": [],
   "source": [
    "plot(named=\"Quaternion\", show=True)"
   ]
  },
  {
   "cell_type": "markdown",
   "metadata": {},
   "source": [
    "### **`Octonion Numbers`**\n",
    "\n",
    "[Octonions](http://en.wikipedia.org/wiki/Octonion) are a normed division algebra over the real numbers. They are noncommutative and nonassociative, but satisfy a weaker form of associativity, namely they are alternative. The Cayley graph is hard project into two-dimensions, there overlapping edges along the diagonals. That can be expressed in the form `a + bi + cj + dk + eL + fI + gJ + hK`, where `a .. h` are real numbers and `i, j, k, L, I, J, K` are the imaginary units."
   ]
  },
  {
   "cell_type": "code",
   "execution_count": null,
   "metadata": {},
   "outputs": [],
   "source": [
    "plot(named=\"Octonion\", show=True)"
   ]
  },
  {
   "cell_type": "markdown",
   "metadata": {},
   "source": [
    "### **`Sedenion Numbers`**\n",
    "\n",
    "[Sedenion](http://en.wikipedia.org/wiki/Sedenion) orm a 16-dimensional noncommutative and nonassociative algebra over the reals obtained by applying the Cayley–Dickson construction to the octonions. That can be expressed in the form `a + i + j + k + L + I + J + K...`, where `a...` are real numbers and `i, j, k, L, I, J, K, m, p, q, r, M, P, Q, R` are the imaginary units."
   ]
  },
  {
   "cell_type": "code",
   "execution_count": null,
   "metadata": {},
   "outputs": [],
   "source": [
    "plot(named=\"Sedenion\", show=True)"
   ]
  },
  {
   "cell_type": "markdown",
   "metadata": {},
   "source": [
    "### **`Pathion Numbers`**\n",
    "\n",
    "Pathions form a 32-dimensional algebra over the reals obtained by applying the Cayley–Dickson construction to the sedenions."
   ]
  },
  {
   "cell_type": "code",
   "execution_count": null,
   "metadata": {},
   "outputs": [],
   "source": [
    "plot(named=\"Pathion\", show=True)"
   ]
  },
  {
   "cell_type": "markdown",
   "metadata": {},
   "source": [
    "### **`Chingon Numbers`**\n",
    "\n",
    "Chingons form a 64-dimensional algebra over the reals obtained by applying the Cayley–Dickson construction to the pathion."
   ]
  },
  {
   "cell_type": "code",
   "execution_count": null,
   "metadata": {},
   "outputs": [],
   "source": [
    "plot(named=\"Chingon\", show=True)"
   ]
  },
  {
   "cell_type": "markdown",
   "metadata": {},
   "source": [
    "### **`Routon Numbers`**\n",
    "\n",
    "Routons form a 128-dimensional algebra over the reals obtained by applying the Cayley–Dickson construction to the chingons."
   ]
  },
  {
   "cell_type": "code",
   "execution_count": null,
   "metadata": {},
   "outputs": [],
   "source": [
    "plot(named=\"Routon\", show=True)"
   ]
  },
  {
   "cell_type": "markdown",
   "metadata": {},
   "source": [
    "### **`Voudon Numbers`**\n",
    "\n",
    "Voudons form a 256-dimensional algebra over the reals obtained by applying the Cayley–Dickson construction to the routons."
   ]
  },
  {
   "cell_type": "code",
   "execution_count": null,
   "metadata": {},
   "outputs": [],
   "source": [
    "plot(named=\"Voudon\", show=True)"
   ]
  }
 ],
 "metadata": {
  "interpreter": {
   "hash": "9aab921455daf93c5b5e512768862be38eb2d6dcc418fdb7d8b034605503ac32"
  },
  "kernelspec": {
   "display_name": "Python 3.9.10 ('base')",
   "language": "python",
   "name": "python3"
  },
  "language_info": {
   "codemirror_mode": {
    "name": "ipython",
    "version": 3
   },
   "file_extension": ".py",
   "mimetype": "text/x-python",
   "name": "python",
   "nbconvert_exporter": "python",
   "pygments_lexer": "ipython3",
   "version": "3.9.12"
  },
  "orig_nbformat": 4
 },
 "nbformat": 4,
 "nbformat_minor": 2
}
