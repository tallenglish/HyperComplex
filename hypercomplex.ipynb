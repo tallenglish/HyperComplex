{
 "cells": [
  {
   "cell_type": "markdown",
   "id": "4e1671f9",
   "metadata": {},
   "source": [
    "## **`HyperComplex Python Library`**\n",
    "\n",
    "A Python library for working with quaternions, octonions, sedenions, and beyond following the Cayley-Dickson construction of hypercomplex numbers.\n",
    "\n",
    "The [complex numbers](https://en.wikipedia.org/wiki/Complex_number) may be viewed as an extension of the everyday [real numbers](https://en.wikipedia.org/wiki/Real_number). A complex number has two real-number coefficients, one multiplied by 1, the other multiplied by [i](https://en.wikipedia.org/wiki/Imaginary_unit).\n",
    "\n",
    "In a similar way, a [quaternion](https://en.wikipedia.org/wiki/Quaternion), which has 4 components, can be constructed by combining two complex numbers. Likewise, two quaternions can construct an [octonion](https://en.wikipedia.org/wiki/Octonion) (8 components), and two octonions can construct a [sedenion](https://en.wikipedia.org/wiki/Sedenion) (16 components).\n",
    "\n",
    "The method for this construction is known as the [Cayley-Dickson construction](https://en.wikipedia.org/wiki/Cayley%E2%80%93Dickson_construction) and the resulting classes of numbers are types of [hypercomplex numbers](https://en.wikipedia.org/wiki/Hypercomplex_number). There is no limit to the number of times you can repeat the Cayley-Dickson construction to create new types of hypercomplex numbers, doubling the number of components each time.\n",
    "\n",
    "This Python 3 package allows the creation of number classes at any repetition level of Cayley-Dickson constructions, and has built-ins for the lower, named levels such as quaternion, octonion, and sedenion."
   ]
  },
  {
   "cell_type": "markdown",
   "id": "1a2b7658",
   "metadata": {},
   "source": [
    "![Diagram](images/diagram.png \"Diagram\")"
   ]
  },
  {
   "cell_type": "markdown",
   "id": "dca21d4d",
   "metadata": {},
   "source": [
    "### **`Special Thanks`**\n",
    "\n",
    "This package is a combination of the work done by [discretegames](https://github.com/discretegames) providing the [mathdunders](https://github.com/discretegames/mathdunders) and most of the [hypercomplex](https://github.com/discretegames/hypercomplex) base functionality, but also [thoppe](https://github.com/thoppe) for providing the base graphical plot functionality from [cayley-dickson](https://github.com/thoppe/Cayley-Dickson).\n",
    "\n",
    "### **`Additions To Above Libraries`**\n",
    "\n",
    "This library has been taylored to use ***`Jupiter / Visual Studio Code Notebooks`*** as well as work with command line for the graphical portions.  I have also added to these base packages, functionality for `inner, outer and hadamard products` as well as extending the graphical capabilities of the Cayley-Dickson graphs to include layers, so as to improve readability when graphing high order complex numbers, sucj as Octonions or Sedenions.  This allows the user to visualise each individual rotation group easilly if so wished, or limit the graph to a specific number of layers, and specific direction of rotation as clockwise `-` and anti-clockwise `+` rotations are handled as seperate layers."
   ]
  },
  {
   "cell_type": "markdown",
   "id": "1b46df6f",
   "metadata": {},
   "source": [
    "### **`Requirements`**\n",
    "\n",
    "The following packages are required, specifially for the graphical functionality, if you remove the HyperComplex.group() and HyperComplex.plot() methods, you no longer need these requirements and the package can work standalone:\n",
    "\n",
    "- itertools\n",
    "- functools\n",
    "- argparse\n",
    "- matplotlib\n",
    "- graph_tool\n",
    "- seaborn\n",
    "- networkx\n",
    "- numbers\n",
    "- numpy\n",
    "- pylab"
   ]
  },
  {
   "cell_type": "markdown",
   "id": "99b595a8",
   "metadata": {},
   "source": [
    "### **`Import HyperComplex Library`**"
   ]
  },
  {
   "cell_type": "code",
   "execution_count": null,
   "id": "3e1ea13e",
   "metadata": {},
   "outputs": [],
   "source": [
    "from hypercomplex import *"
   ]
  },
  {
   "cell_type": "markdown",
   "id": "44fdd7e5",
   "metadata": {},
   "source": [
    "### **`Basic Usage`**\n",
    "\n",
    "You can any of the following:\n",
    "\n",
    "- `R`, `Real` for real numbers (1 bit)\n",
    "- `C`, `Complex` for complex numbers (2 bit)\n",
    "- `H`, `Q`, `Quaternion` for quaternion numbers (4 bit)\n",
    "- `O`, `Octonion` for octonion numbers (8 bit)\n",
    "- `S`, `Sedenion` for sedenion numbers (16 bit)\n",
    "- `P`, `Pathion` for pathion numbers (32 bit)\n",
    "- `X`, `Chingon` for chingon numbers (64 bit)\n",
    "- `U`, `Routon` for routon numbers (128 bit)\n",
    "- `V`, `Voudon` for voudon numbers (256 bit)\n",
    "\n",
    "Higher order numbers can be created using the function `cayley_dickson_construction(N)` where N is the previous basis of the one you are trying to create."
   ]
  },
  {
   "cell_type": "code",
   "execution_count": null,
   "id": "bfcad154-58dc-425e-9b3b-05f7f36f26c8",
   "metadata": {},
   "outputs": [],
   "source": [
    "AA = H(1,2,3,4)\n",
    "AB = H(Complex(1,2),C(3,4))\n",
    "AC = H((1,2),(3,4))\n",
    "AD = H((1,2,3,4))\n",
    "AE = H([1,-2,-3,-4])\n",
    "AF = O()\n",
    "AG = cayley_dickson_construction(V)()\n",
    "\n",
    "print(\"Addition:\\n\", \t\t\tAF + AA, \"\\n\", AF + O(0,AA), \"\\n\")\n",
    "print(\"Multiplication:\\n\", \t\t2 * AA, \"\\n\")\n",
    "print(\"Comparison:\\n\",\t\t\tAA == (1,2,3,4), \"\\n\")\n",
    "print(\"Lengths:\\n\",\t\t\t\tlen(AA), \"\\n\", len(AG), \"\\n\")\n",
    "print(\"Square:\\n\",\t\t\t\tAA.square(), \"\\n\")\n",
    "print(\"Norm:\\n\",\t\t\t\tAA.norm(), \"\\n\")\n",
    "print(\"Inverse:\\n\",\t\t\t\tAA.inverse(), \"\\n\", 1 / AA, \"\\n\")\n",
    "print(\"Cacheing:\\n\",\t\t\tH.__mul__.cache_info())"
   ]
  },
  {
   "cell_type": "markdown",
   "id": "a64fa6eb",
   "metadata": {},
   "source": [
    "### **`HyperComplex Methods`**"
   ]
  },
  {
   "cell_type": "code",
   "execution_count": null,
   "id": "bbd9726d",
   "metadata": {},
   "outputs": [],
   "source": [
    "print(\"Real Part:\\n\",           AA.real, \"\\n\")\n",
    "print(\"Imaginary Part:\\n\",      AA.imag, \"\\n\")\n",
    "print(\"Coefficients:\\n\",        AA.coefficients(), \"\\n\")\n",
    "print(\"Conjugate Transpose:\\n\", AA.conjugate())"
   ]
  },
  {
   "cell_type": "code",
   "execution_count": null,
   "id": "6e71799d",
   "metadata": {},
   "outputs": [],
   "source": [
    "print(\"String Format:\\n\",       AA.asstring(translate=True), \"\\n\")\n",
    "print(\"String Format:\\n\",       AE.asstring(translate=True), \"\\n\")\n",
    "print(\"Tuple Format:\\n\",        AA.astuple(), \"\\n\")\n",
    "print(\"List Format:\\n\",         AA.aslist(), \"\\n\")\n",
    "print(\"Object Format:\\n\",       AA.asobject())"
   ]
  },
  {
   "cell_type": "code",
   "execution_count": null,
   "id": "cf8a9c6f",
   "metadata": {},
   "outputs": [],
   "source": [
    "print(\"Inner Product:\\n\",       AA.innerproduct(AB), \"\\n\")\n",
    "print(\"Outer Product:\\n\",       AA.outerproduct(AB, asstring=True, translate=True), \"\\n\")\n",
    "print(\"Hadamard Product:\\n\",    AA.hadamardproduct(AB, asobject=True))"
   ]
  },
  {
   "cell_type": "markdown",
   "id": "5560c288",
   "metadata": {},
   "source": [
    "### **`HyperComplex Multiplication Matricies`**\n",
    "\n",
    "These can have various options to alter how the data is handed back, `asstring=True` will output the array as a string, adding by default `e0, e1, ...` as the index names, however you can add `translate=True` to change them to `1 + i + j + k, ...` format.  You can also use custom indexes by either changing the `element=e` option or `indices=1ijkmIJKnpqrMPQR` option.\n",
    "\n",
    "If you select `asobject=True (default)` then the function will output list of HyperComplex objects, `astuple=True` and `aslist=True` will return a tuple or list array accordingly.  There is also `asindex=True`, which returns the sign and index id for each cell."
   ]
  },
  {
   "cell_type": "code",
   "execution_count": null,
   "id": "c145d247",
   "metadata": {},
   "outputs": [],
   "source": [
    "print(\"String Matrix:\\n\",\t\tAA.matrix(asstring=True, translate=True), \"\\n\")\n",
    "print(\"String Matrix:\\n\",\t\tAA.matrix(asstring=True, translate=True, indices=\"1abcd\"), \"\\n\")\n",
    "print(\"Object Matrix:\\n\",\t\tAA.matrix(asobject=True), \"\\n\")\n",
    "print(\"Index ID:\\n\",       \t\tAA.matrix(asindex=True, asstring=True))"
   ]
  },
  {
   "cell_type": "markdown",
   "id": "5f01f692",
   "metadata": {},
   "source": [
    "### **`HyperComplex Graphical Methods`**\n",
    "\n",
    "The `HyperComplex.plot()` method, which produces  images so we can visualize the multiplication tables with either one or two colormaps.  Using the default options and diverging colurmap, `red` displays positive values, `blue`  negative values. For example, with the complex numbers 1 => least red, i => most red, -1 => least blue, -i => most blue. \n",
    "\n",
    "For a full list of supported colormaps supported by , please visit [Matplotlib Colormaps](https://matplotlib.org/stable/tutorials/colors/colormaps.html) \n",
    "\n",
    "Default Options:\n",
    "\n",
    "- `order=None` : order of the hyper complex object to use.\n",
    "- `filename=\"P{order}.{filetype}\"` : images filename E.g. P3.png\n",
    "- `filetype=\"png\"` : the file extension used above.\n",
    "- `figsize=6.0` : figure size in inches.\n",
    "- `figdpi=100.0` : figure dpi (pixels per inch).\n",
    "- `colormap=\"RdBu_r\"` : the matpltlib colormap to use for positives and diverging graphs.\n",
    "- `ncolormap=\"PiYG_r\"` : the matplotlib colormap to use for negatives.\n",
    "- `diverging=False` : use diverging colormap.\n",
    "- `negatives=False` : show negative values using ncolormap above (ignored if diverging used).\n",
    "- `show=False` : show figure to screen.\n",
    "- `save=False` : save figure to disk.\n",
    "\n",
    "For the smaller algebras (up to Sedenion), we can construct the [Cayley Graph](http://en.wikipedia.org/wiki/Cayley_graph) using `HyperComplex.graph()` to display the various rotations of various imaginary indices as shown below for quaternions.\n",
    "\n",
    "When displaying edges, the color of the edge will be the same as the vertex points they relate to, E.g. `i` will always be `red`, `j` will be `green` and so on.  Negative rotations will be displayed in a darker variant of the color to stand out.\n",
    "\n",
    "Default Options:\n",
    "\n",
    "- `order=None` : order of the hyper complex object to use.\n",
    "- `filename=\"G{order}.{filetype}\"` : images filename E.g. G3.png.\n",
    "- `filetype=\"png\"` : the file extension used above.\n",
    "- `figsize=6.0` : figure size in inches.\n",
    "- `figdpi=100.0` : figure dpi (pixels per inch).\n",
    "- `fontsize=14` : font size used for labels.\n",
    "- `element=\"e\"` : used when displaying as string, but not translating to index.\n",
    "- `indices=\"1ijkLIJKmpqrMPQRnstuNSTUovwxOVWX\"` : used to translate indicies.\n",
    "- `layers=\"...\"` : select which rotations to display, can be positive or negative.\n",
    "- `translate=False` : tranlates the indicies for easy reading.\n",
    "- `positives=False` : show all positive translations.\n",
    "- `negatives=False` : show all negative rotations.\n",
    "- `undirected=False` : dont show arrows indicating direction of rotation.\n",
    "- `translate=False` : tranlates the indicies for easy reading.\n",
    "- `showall=False` : show all rotations.\n",
    "- `show=False` : show figure to screen.\n",
    "- `save=False` : save figure to disk."
   ]
  },
  {
   "cell_type": "markdown",
   "id": "26583e25",
   "metadata": {},
   "source": [
    "### **`Complex Numbers`**\n",
    "\n",
    "A [complex number](http://en.wikipedia.org/wiki/Complex_number) is a number that can be expressed in the form `a + bi`, where `a` and `b` are real numbers and `i` is the imaginary unit, imaginary being the root of a negative square number `i = sqrt(-1)`. They are a normed division algebra over the real numbers. There is no natural linear ordering (commutativity) on the set of complex numbers.\n",
    "\n",
    "- i² = -1"
   ]
  },
  {
   "cell_type": "code",
   "execution_count": null,
   "id": "9ff8e42f",
   "metadata": {},
   "outputs": [],
   "source": [
    "# NOTE: Takes less than 2s\n",
    "\n",
    "X = Complex()\n",
    "\n",
    "X.group(translate=True, show=True, save=True, filename=\"images/complex_g_all.png\", showall=True)\n",
    "X.group(translate=True, show=True, save=True, filename=\"images/complex_g_pos.png\", positives=True)\n",
    "X.group(translate=True, show=True, save=True, filename=\"images/complex_g_neg.png\", negatives=True)\n",
    "X.plot(diverging=False, show=True, save=True, filename=\"images/complex.png\")\n",
    "X.plot(diverging=True, show=True, save=True, filename=\"images/complex_d.png\")"
   ]
  },
  {
   "cell_type": "markdown",
   "id": "93285414",
   "metadata": {},
   "source": [
    "### **`Quaternion Numbers`**\n",
    "\n",
    "[Quaternions](http://en.wikipedia.org/wiki/Quaternion) are a normed division algebra over the real numbers that can be expressed in the form `a + bi + cj + dk`, where `a`, `b`, `c` and `d` are real numbers and `i`, `j`, `k` are the imaginary units.  They are noncommutative. The unit quaternions can be thought of as a choice of a group structure on the 3-sphere S3 that gives the group Spin(3), which is isomorphic to SU(2) and also to the universal cover of SO(3).\n",
    "\n",
    "- i = jk\n",
    "- j = ki\n",
    "- k = ij\n",
    "- i² = j² = k² = -1\n",
    "- ijk = -1"
   ]
  },
  {
   "cell_type": "code",
   "execution_count": null,
   "id": "cc8a6bb1",
   "metadata": {},
   "outputs": [],
   "source": [
    "# NOTE: Takes less than 2s\n",
    "\n",
    "X = Quaternion()\n",
    "\n",
    "X.group(translate=True, show=True, save=True, filename=\"images/quaternion_g_all.png\", showall=True)\n",
    "X.group(translate=True, show=True, save=True, filename=\"images/quaternion_g_pos.png\", positives=True)\n",
    "X.group(translate=True, show=True, save=True, filename=\"images/quaternion_g_neg.png\", negatives=True)\n",
    "X.plot(diverging=False, show=True, save=True, filename=\"images/quaternion.png\")\n",
    "X.plot(diverging=True, show=True, save=True, filename=\"images/quaternion_d.png\")"
   ]
  },
  {
   "cell_type": "markdown",
   "id": "0d966bb0",
   "metadata": {},
   "source": [
    "### **`Octonion Numbers`**\n",
    "\n",
    "[Octonions](http://en.wikipedia.org/wiki/Octonion) are a normed division algebra over the real numbers. They are noncommutative and nonassociative, but satisfy a weaker form of associativity, namely they are alternative. The Cayley graph is hard project into two-dimensions, there overlapping edges along the diagonals. That can be expressed in the form `a + bi + cj + dk + eL + fI + gJ + hK`, where `a .. h` are real numbers and `i, j, k, L, I, J, K` are the imaginary units.\n",
    "\n",
    "The significance of the higher order imaginary units:\n",
    "\n",
    "- [L, I, J, K] = [1, i, j, k] * L\n",
    "- L² = I² = J² = K² = -1\n",
    "- IJK = L"
   ]
  },
  {
   "cell_type": "code",
   "execution_count": null,
   "id": "c8be972e",
   "metadata": {},
   "outputs": [],
   "source": [
    "# NOTE: Takes about 3s\n",
    "\n",
    "X = Octonion()\n",
    "\n",
    "X.group(translate=True, show=True, layers=\"L,i,j,k\", save=True, filename=\"images/octonion_g_Lijk_pos.png\")\n",
    "X.group(translate=True, show=True, layers=\"-L,-i,-j,-k\", save=True, filename=\"images/octonion_g_Lijk_neg.png\")\n",
    "X.group(translate=True, show=True, layers=\"L,I,J,K\", save=True, filename=\"images/octonion_g_LIJK_pos.png\")\n",
    "X.group(translate=True, show=True, layers=\"-L,-I,-J,-K\", save=True, filename=\"images/octonion_g_LIJK_neg.png\")\n",
    "X.plot(diverging=False, show=True, save=True, filename=\"images/octonion.png\")\n",
    "X.plot(diverging=True, show=True, save=True, filename=\"images/octonion_d.png\")"
   ]
  },
  {
   "cell_type": "markdown",
   "id": "d05dbd47",
   "metadata": {},
   "source": [
    "### **`Sedenion Numbers`**\n",
    "\n",
    "[Sedenion](http://en.wikipedia.org/wiki/Sedenion) orm a 16-dimensional noncommutative and nonassociative algebra over the reals obtained by applying the Cayley–Dickson construction to the octonions. That can be expressed in the form `a + i + j + k + L + I + J + K...`, where `a...` are real numbers and `i, j, k, L, I, J, K, m, p, q, r, M, P, Q, R` are the imaginary units.\n",
    "\n",
    "The significance of the higher order imaginary units:\n",
    "\n",
    "- [m, p, q, r] = [1, i, j, k] * m\n",
    "- [M, P, Q, R] = [L, I, J, K] * m\n",
    "- m² = p² = q² = r² = -1\n",
    "- M² = P² = Q² = R² = -1\n",
    "- pqr = m\n",
    "- PQR = M\n",
    "\n",
    "Now things are getting very complicated (pun intended), we will only show the positive layers, for each of the four main rotational groups, `L,i,j,k`, `L,I,J,K` as for Octonions and their duals `m,p,q,r` and `M,P,Q,R`.  Even as they are, it is still hard to visualise, but displaying fewer layers per image will rectify that, you need to display a minimum of one layer - so you could just display singular rotational groups for maximum readability."
   ]
  },
  {
   "cell_type": "code",
   "execution_count": null,
   "id": "c8cec8f9",
   "metadata": {},
   "outputs": [],
   "source": [
    "# NOTE: Takes less than 8s\n",
    "\n",
    "X = Sedenion()\n",
    "\n",
    "X.group(translate=True, show=True, layers=\"L,i,j,k\", save=True, filename=\"images/sedenion_g_Lijk_pos.png\")\n",
    "X.group(translate=True, show=True, layers=\"L,I,J,K\", save=True, filename=\"images/sedenion_g_LIJK_pos.png\")\n",
    "X.group(translate=True, show=True, layers=\"m,p,q,r\", save=True, filename=\"images/sedenion_g_mpqr_pos.png\")\n",
    "X.group(translate=True, show=True, layers=\"M,P,Q,R\", save=True, filename=\"images/sedenion_g_MPQR_pos.png\")\n",
    "X.plot(diverging=False, show=True, save=True, filename=\"images/sedenion.png\")\n",
    "X.plot(diverging=True, show=True, save=True, filename=\"images/sedenion_d.png\")"
   ]
  },
  {
   "cell_type": "markdown",
   "id": "957a8932",
   "metadata": {},
   "source": [
    "### **`Pathion Numbers`**\n",
    "\n",
    "Pathions form a 32-dimensional algebra over the reals obtained by applying the Cayley–Dickson construction to the sedenions.\n",
    "\n",
    "The significance of the higher order imaginary units:\n",
    "\n",
    "- [n, s, t, u] = [1, i, j, k] * n\n",
    "- [N, S, T, U] = [L, I, J, K] * n\n",
    "- [o, v, w, x] = [m, p, q, r] * n\n",
    "- [O, V, W, X] = [M, P, Q, R] * n\n",
    "- n² = s² = t² = u² = o² = v² = w² = u² = -1\n",
    "- N² = S² = T² = U² = O² = V² = W² = U² = -1\n",
    "- stu = n\n",
    "- STU = N\n",
    "- vwx = o\n",
    "- VWX = O\n",
    "\n",
    "As before we will only show the positive layers, for each of the four main rotational groups, `1,i,j,k`, `L,I,J,K`, `m,p,q,r` and `M,P,Q,R` for Sedenions we have their duals `n,s,t,u`, `N,S,T,U`, `o,v,w,x`, and `O,V,W,X`.  Even as they are, it is still hard to visualise, but displaying a single layers per image will give maximum readability."
   ]
  },
  {
   "cell_type": "code",
   "execution_count": null,
   "id": "6a726983",
   "metadata": {},
   "outputs": [],
   "source": [
    "# NOTE: Takes about 42s\n",
    "\n",
    "X = Pathion()\n",
    "\n",
    "X.group(translate=True, show=True, layers=\"L\", save=True, filename=\"images/pathion_g_L_pos.png\")\n",
    "X.group(translate=True, show=True, layers=\"m\", save=True, filename=\"images/pathion_g_m_pos.png\")\n",
    "X.group(translate=True, show=True, layers=\"n\", save=True, filename=\"images/pathion_g_n_pos.png\")\n",
    "X.group(translate=True, show=True, layers=\"o\", save=True, filename=\"images/pathion_g_o_pos.png\")\n",
    "X.plot(diverging=False, show=True, save=True, filename=\"images/pathion.png\")\n",
    "X.plot(diverging=True, show=True, save=True, filename=\"images/pathion_d.png\")"
   ]
  },
  {
   "cell_type": "markdown",
   "id": "c93be95e",
   "metadata": {},
   "source": [
    "### **`Chingon Numbers`**\n",
    "\n",
    "Chingons form a 64-dimensional algebra over the reals obtained by applying the Cayley–Dickson construction to the pathion.\n",
    "\n",
    "HyperComplex.group() is disabled, as it is far too busy/messy."
   ]
  },
  {
   "cell_type": "code",
   "execution_count": null,
   "id": "c46466de",
   "metadata": {},
   "outputs": [],
   "source": [
    "# NOTE: Takes about 1m\n",
    "\n",
    "X = Chingon()\n",
    "\n",
    "# X.plot(diverging=False, show=True, save=True, filename=\"images/chingon.png\")\n",
    "# X.plot(diverging=True, show=True, save=True, filename=\"images/chingon_d.png\")"
   ]
  },
  {
   "cell_type": "markdown",
   "id": "afd4fa09",
   "metadata": {},
   "source": [
    "### **`Routon Numbers`**\n",
    "\n",
    "Routons form a 128-dimensional algebra over the reals obtained by applying the Cayley–Dickson construction to the chingons.\n",
    "\n",
    "HyperComplex.group() is disabled, as it is far too busy/messy."
   ]
  },
  {
   "cell_type": "code",
   "execution_count": null,
   "id": "cd3bfdca",
   "metadata": {},
   "outputs": [],
   "source": [
    "# NOTE: Takes about 10m40s\n",
    "\n",
    "X = Routon()\n",
    "\n",
    "# X.plot(diverging=False, show=True, save=True, filename=\"images/routon.png\")\n",
    "# X.plot(diverging=True, show=True, save=True, filename=\"images/routon_d.png\")"
   ]
  },
  {
   "cell_type": "markdown",
   "id": "31d70f6e",
   "metadata": {},
   "source": [
    "### **`Voudon Numbers`**\n",
    "\n",
    "Voudons form a 256-dimensional algebra over the reals obtained by applying the Cayley–Dickson construction to the routons.\n",
    "\n",
    "HyperComplex.group() is disabled, as it is far too busy/messy."
   ]
  },
  {
   "cell_type": "code",
   "execution_count": null,
   "id": "f639a57f",
   "metadata": {},
   "outputs": [],
   "source": [
    "# NOTE: Takes very long time\n",
    "\n",
    "X = Voudon()\n",
    "\n",
    "# X.plot(diverging=False, show=True, save=True, filename=\"images/voudon.png\")\n",
    "# X.plot(diverging=True, show=True, save=True, filename=\"images/voudon_d.png\")"
   ]
  }
 ],
 "metadata": {
  "interpreter": {
   "hash": "9aab921455daf93c5b5e512768862be38eb2d6dcc418fdb7d8b034605503ac32"
  },
  "kernelspec": {
   "display_name": "Python 3.8.12 64-bit ('base': conda)",
   "name": "python3"
  },
  "language_info": {
   "codemirror_mode": {
    "name": "ipython",
    "version": 3
   },
   "file_extension": ".py",
   "mimetype": "text/x-python",
   "name": "python",
   "nbconvert_exporter": "python",
   "pygments_lexer": "ipython3",
   "version": "3.9.12"
  }
 },
 "nbformat": 4,
 "nbformat_minor": 5
}
