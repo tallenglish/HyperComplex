{
 "cells": [
  {
   "cell_type": "markdown",
   "id": "4e1671f9",
   "metadata": {},
   "source": [
    "## **`HyperComplex Python Library`**\n",
    "\n",
    "A Python library for working with quaternions, octonions, sedenions, and beyond following the Cayley-Dickson construction of hypercomplex numbers.\n",
    "\n",
    "The [complex numbers](https://en.wikipedia.org/wiki/Complex_number) may be viewed as an extension of the everyday [real numbers](https://en.wikipedia.org/wiki/Real_number). A complex number has two real-number coefficients, one multiplied by 1, the other multiplied by [i](https://en.wikipedia.org/wiki/Imaginary_unit).\n",
    "\n",
    "In a similar way, a [quaternion](https://en.wikipedia.org/wiki/Quaternion), which has 4 components, can be constructed by combining two complex numbers. Likewise, two quaternions can construct an [octonion](https://en.wikipedia.org/wiki/Octonion) (8 components), and two octonions can construct a [sedenion](https://en.wikipedia.org/wiki/Sedenion) (16 components).\n",
    "\n",
    "The method for this construction is known as the [Cayley-Dickson construction](https://en.wikipedia.org/wiki/Cayley%E2%80%93Dickson_construction) and the resulting classes of numbers are types of [hypercomplex numbers](https://en.wikipedia.org/wiki/Hypercomplex_number). There is no limit to the number of times you can repeat the Cayley-Dickson construction to create new types of hypercomplex numbers, doubling the number of components each time.\n",
    "\n",
    "This Python 3 package allows the creation of number classes at any repetition level of Cayley-Dickson constructions, and has built-ins for the lower, named levels such as quaternion, octonion, and sedenion."
   ]
  },
  {
   "cell_type": "markdown",
   "id": "1a2b7658",
   "metadata": {},
   "source": [
    "![Diagram](images/diagram.png \"Diagram\")"
   ]
  },
  {
   "cell_type": "markdown",
   "id": "dca21d4d",
   "metadata": {},
   "source": [
    "### **`Special Thanks`**\n",
    "\n",
    "This package is a combination of the work done by [discretegames](https://github.com/discretegames) providing the [mathdunders](https://github.com/discretegames/mathdunders) and most of the [hypercomplex](https://github.com/discretegames/hypercomplex) base functionality, but also [thoppe](https://github.com/thoppe) for providing the base graphical plot functionality from [cayley-dickson](https://github.com/thoppe/Cayley-Dickson).\n",
    "\n",
    "### **`Additions To Above Libraries`**\n",
    "\n",
    "This library has been taylored to use ***`Jupiter / Visual Studio Code Notebooks`*** as well as work with command line for the graphical portions.  I have also added to these base packages, functionality for `inner, outer and hadamard products` as well as extending the graphical capabilities of the Cayley-Dickson graphs to include layers, so as to improve readability when graphing high order complex numbers, sucj as Octonions or Sedenions.  This allows the user to visualise each individual rotation group easilly if so wished, or limit the graph to a specific number of layers, and specific direction of rotation as clockwise `-` and anti-clockwise `+` rotations are handled as seperate layers."
   ]
  },
  {
   "cell_type": "markdown",
   "id": "1b46df6f",
   "metadata": {},
   "source": [
    "### **`Requirements`**\n",
    "\n",
    "The following packages are required:\n",
    "\n",
    "- functools\n",
    "- numbers\n",
    "- numpy"
   ]
  },
  {
   "cell_type": "markdown",
   "id": "99b595a8",
   "metadata": {},
   "source": [
    "### **`Import HyperComplex Library`**"
   ]
  },
  {
   "cell_type": "code",
   "execution_count": null,
   "id": "3e1ea13e",
   "metadata": {},
   "outputs": [],
   "source": [
    "from hypercomplex import *"
   ]
  },
  {
   "cell_type": "markdown",
   "id": "44fdd7e5",
   "metadata": {},
   "source": [
    "### **`Basic Usage`**\n",
    "\n",
    "You can any of the following:\n",
    "\n",
    "- `R`, `Real` for real numbers (1 bit)\n",
    "- `C`, `Complex` for complex numbers (2 bit)\n",
    "- `H`, `Q`, `Quaternion` for quaternion numbers (4 bit)\n",
    "- `O`, `Octonion` for octonion numbers (8 bit)\n",
    "- `S`, `Sedenion` for sedenion numbers (16 bit)\n",
    "- `P`, `Pathion` for pathion numbers (32 bit)\n",
    "- `X`, `Chingon` for chingon numbers (64 bit)\n",
    "- `U`, `Routon` for routon numbers (128 bit)\n",
    "- `V`, `Voudon` for voudon numbers (256 bit)\n",
    "\n",
    "Higher order numbers can be created using the function `cayley_dickson_construction(N)` where N is the previous basis of the one you are trying to create."
   ]
  },
  {
   "cell_type": "code",
   "execution_count": null,
   "id": "bfcad154-58dc-425e-9b3b-05f7f36f26c8",
   "metadata": {},
   "outputs": [],
   "source": [
    "AA = H(1,2,3,4)\n",
    "AB = H(Complex(1,2),C(3,4))\n",
    "AC = H((1,2),(3,4))\n",
    "AD = H((1,2,3,4))\n",
    "AE = H([1,-2,-3,-4])\n",
    "AF = O()\n",
    "AG = cayley_dickson_construction(V)()\n",
    "\n",
    "print(\"Addition:\\n\", \t\t\tAF + AA, \"\\n\", AF + O(0,AA), \"\\n\")\n",
    "print(\"Multiplication:\\n\", \t\t2 * AA, \"\\n\")\n",
    "print(\"Comparison:\\n\",\t\t\tAA == (1,2,3,4), \"\\n\")\n",
    "print(\"Lengths:\\n\",\t\t\t\tlen(AA), \"\\n\", len(AG), \"\\n\")\n",
    "print(\"Square:\\n\",\t\t\t\tAA.square(), \"\\n\")\n",
    "print(\"Norm:\\n\",\t\t\t\tAA.norm(), \"\\n\")\n",
    "print(\"Inverse:\\n\",\t\t\t\tAA.inverse(), \"\\n\", 1 / AA, \"\\n\")\n",
    "print(\"Cacheing:\\n\",\t\t\tH.__mul__.cache_info())"
   ]
  },
  {
   "cell_type": "markdown",
   "id": "a64fa6eb",
   "metadata": {},
   "source": [
    "### **`HyperComplex Methods`**"
   ]
  },
  {
   "cell_type": "code",
   "execution_count": null,
   "id": "bbd9726d",
   "metadata": {},
   "outputs": [],
   "source": [
    "print(\"Real Part:\\n\",           AA.real, \"\\n\")\n",
    "print(\"Imaginary Part:\\n\",      AA.imag, \"\\n\")\n",
    "print(\"Coefficients:\\n\",        AA.coefficients(), \"\\n\")\n",
    "print(\"Conjugate Transpose:\\n\", AA.conjugate())"
   ]
  },
  {
   "cell_type": "code",
   "execution_count": null,
   "id": "6e71799d",
   "metadata": {},
   "outputs": [],
   "source": [
    "print(\"String Format:\\n\",       AA.asstring(translate=True), \"\\n\")\n",
    "print(\"String Format:\\n\",       AE.asstring(translate=True), \"\\n\")\n",
    "print(\"Tuple Format:\\n\",        AA.astuple(), \"\\n\")\n",
    "print(\"List Format:\\n\",         AA.aslist(), \"\\n\")\n",
    "print(\"Object Format:\\n\",       AA.asobject())"
   ]
  },
  {
   "cell_type": "code",
   "execution_count": null,
   "id": "cf8a9c6f",
   "metadata": {},
   "outputs": [],
   "source": [
    "print(\"Inner Product:\\n\",       AA.innerproduct(AB), \"\\n\")\n",
    "print(\"Outer Product:\\n\",       AA.outerproduct(AB, asstring=True, translate=True), \"\\n\")\n",
    "print(\"Hadamard Product:\\n\",    AA.hadamardproduct(AB, asobject=True))"
   ]
  },
  {
   "cell_type": "markdown",
   "id": "5560c288",
   "metadata": {},
   "source": [
    "### **`HyperComplex Multiplication Matricies`**\n",
    "\n",
    "These can have various options to alter how the data is handed back, `asstring=True` will output the array as a string, adding by default `e0, e1, ...` as the index names, however you can add `translate=True` to change them to `1 + i + j + k, ...` format.  You can also use custom indexes by either changing the `element=e` option or `indices=1ijkmIJKnpqrMPQR` option.\n",
    "\n",
    "If you select `asobject=True (default)` then the function will output list of HyperComplex objects, `astuple=True` and `aslist=True` will return a tuple or list array accordingly.  There is also `asindex=True`, which returns the sign and index id for each cell."
   ]
  },
  {
   "cell_type": "code",
   "execution_count": null,
   "id": "c145d247",
   "metadata": {},
   "outputs": [],
   "source": [
    "print(\"String Matrix:\\n\",\t\tAA.matrix(asstring=True, translate=True), \"\\n\")\n",
    "print(\"String Matrix:\\n\",\t\tAA.matrix(asstring=True, translate=True, indices=\"1abcd\"), \"\\n\")\n",
    "print(\"Object Matrix:\\n\",\t\tAA.matrix(asobject=True), \"\\n\")\n",
    "print(\"Index ID:\\n\",       \t\tAA.matrix(asindex=True, asstring=True))"
   ]
  }
 ],
 "metadata": {
  "interpreter": {
   "hash": "9aab921455daf93c5b5e512768862be38eb2d6dcc418fdb7d8b034605503ac32"
  },
  "kernelspec": {
   "display_name": "Python 3.8.12 64-bit ('base': conda)",
   "name": "python3"
  },
  "language_info": {
   "codemirror_mode": {
    "name": "ipython",
    "version": 3
   },
   "file_extension": ".py",
   "mimetype": "text/x-python",
   "name": "python",
   "nbconvert_exporter": "python",
   "pygments_lexer": "ipython3",
   "version": "3.9.12"
  }
 },
 "nbformat": 4,
 "nbformat_minor": 5
}
