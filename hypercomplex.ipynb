{
 "cells": [
  {
   "cell_type": "markdown",
   "id": "4e1671f9",
   "metadata": {},
   "source": [
    "## **`HyperComplex Python Library`**\n",
    "\n",
    "A Python library for working with quaternions, octonions, sedenions, and beyond following the Cayley-Dickson construction of hypercomplex numbers.\n",
    "\n",
    "The [complex numbers](https://en.wikipedia.org/wiki/Complex_number) may be viewed as an extension of the everyday [real numbers](https://en.wikipedia.org/wiki/Real_number). A complex number has two real-number coefficients, one multiplied by 1, the other multiplied by [i](https://en.wikipedia.org/wiki/Imaginary_unit).\n",
    "\n",
    "In a similar way, a [quaternion](https://en.wikipedia.org/wiki/Quaternion), which has 4 components, can be constructed by combining two complex numbers. Likewise, two quaternions can construct an [octonion](https://en.wikipedia.org/wiki/Octonion) (8 components), and two octonions can construct a [sedenion](https://en.wikipedia.org/wiki/Sedenion) (16 components).\n",
    "\n",
    "The method for this construction is known as the [Cayley-Dickson construction](https://en.wikipedia.org/wiki/Cayley%E2%80%93Dickson_construction) and the resulting classes of numbers are types of [hypercomplex numbers](https://en.wikipedia.org/wiki/Hypercomplex_number). There is no limit to the number of times you can repeat the Cayley-Dickson construction to create new types of hypercomplex numbers, doubling the number of components each time.\n",
    "\n",
    "This Python 3 package allows the creation of number classes at any repetition level of Cayley-Dickson constructions, and has built-ins for the lower, named levels such as quaternion, octonion, and sedenion."
   ]
  },
  {
   "cell_type": "markdown",
   "id": "1a2b7658",
   "metadata": {},
   "source": [
    "![Diagram](images/diagram.png \"Diagram\")"
   ]
  },
  {
   "cell_type": "markdown",
   "id": "dca21d4d",
   "metadata": {},
   "source": [
    "### **`Special Thanks`**\n",
    "\n",
    "This package is a combination of the work done by [discretegames](https://github.com/discretegames) providing the [mathdunders](https://github.com/discretegames/mathdunders) and most of the [hypercomplex](https://github.com/discretegames/hypercomplex) base functionality, but also [thoppe](https://github.com/thoppe) for providing the base graphical plot functionality from [cayley-dickson](https://github.com/thoppe/Cayley-Dickson).\n",
    "\n",
    "### **`Additions To Above Libraries`**\n",
    "\n",
    "This library has been taylored to use ***`Jupiter / Visual Studio Code Notebooks`*** as well as work with command line for the graphical portions.  I have also added to these base packages, functionality for `inner, outer and hadamard products` as well as extending the graphical capabilities of the Cayley-Dickson graphs to include layers, so as to improve readability when graphing high order complex numbers, sucj as Octonions or Sedenions.  This allows the user to visualise each individual rotation group easilly if so wished, or limit the graph to a specific number of layers, and specific direction of rotation as clockwise `-` and anti-clockwise `+` rotations are handled as seperate layers."
   ]
  },
  {
   "cell_type": "markdown",
   "id": "1b46df6f",
   "metadata": {},
   "source": [
    "### **`Requirements`**\n",
    "\n",
    "The following packages are required:\n",
    "\n",
    "- functools\n",
    "- numbers\n",
    "- numpy"
   ]
  },
  {
   "cell_type": "markdown",
   "id": "99b595a8",
   "metadata": {},
   "source": [
    "### **`Import HyperComplex Library`**"
   ]
  },
  {
   "cell_type": "code",
   "execution_count": 1,
   "id": "3e1ea13e",
   "metadata": {},
   "outputs": [],
   "source": [
    "from hypercomplex import *"
   ]
  },
  {
   "cell_type": "markdown",
   "id": "44fdd7e5",
   "metadata": {},
   "source": [
    "### **`Basic Usage`**\n",
    "\n",
    "You can any of the following:\n",
    "\n",
    "- `R`, `Real` for real numbers (1 bit)\n",
    "- `C`, `Complex` for complex numbers (2 bit)\n",
    "- `H`, `Q`, `Quaternion` for quaternion numbers (4 bit)\n",
    "- `O`, `Octonion` for octonion numbers (8 bit)\n",
    "- `S`, `Sedenion` for sedenion numbers (16 bit)\n",
    "- `P`, `Pathion` for pathion numbers (32 bit)\n",
    "- `X`, `Chingon` for chingon numbers (64 bit)\n",
    "- `U`, `Routon` for routon numbers (128 bit)\n",
    "- `V`, `Voudon` for voudon numbers (256 bit)\n",
    "\n",
    "Higher order numbers can be created using the function `cayley_dickson_construction(N)` where N is the previous basis of the one you are trying to create."
   ]
  },
  {
   "cell_type": "code",
   "execution_count": 2,
   "id": "bfcad154-58dc-425e-9b3b-05f7f36f26c8",
   "metadata": {},
   "outputs": [
    {
     "name": "stdout",
     "output_type": "stream",
     "text": [
      "Addition:\n",
      "(1.0, 2.0, 3.0, 4.0, 0.0, 0.0, 0.0, 0.0)\n",
      "(0.0, 0.0, 0.0, 0.0, 1.0, 2.0, 3.0, 4.0)\n",
      "\n",
      "Multiplication:\n",
      "(2.0, 4.0, 6.0, 8.0)\n",
      "\n",
      "Comparison:\n",
      "True\n",
      "\n",
      "Lengths:\n",
      "4\n",
      "512\n",
      "\n",
      "Square:\n",
      "30.0\n",
      "\n",
      "Norm:\n",
      "5.477225575051661\n",
      "\n",
      "Inverse:\n",
      "(0.03333333333333333, -0.06666666666666667, -0.1, -0.13333333333333333)\n",
      "(0.03333333333333333, -0.06666666666666667, -0.1, -0.13333333333333333)\n",
      "\n",
      "Cacheing:\n",
      "CacheInfo(hits=3, misses=4, maxsize=128, currsize=4)\n",
      "\n"
     ]
    }
   ],
   "source": [
    "AA = H(1,2,3,4)\n",
    "AB = H(Complex(1,2),C(3,4))\n",
    "AC = H((1,2),(3,4))\n",
    "AD = H((1,2,3,4))\n",
    "AE = H([1,-2,-3,-4])\n",
    "AF = O()\n",
    "AG = cayley_dickson_construction(V)()\n",
    "\n",
    "debug(\"Addition:\", AF + AA, O(0, AA) +  AF)\n",
    "debug(\"Multiplication:\", 2 * AA)\n",
    "debug(\"Comparison:\", AA == (1,2,3,4))\n",
    "debug(\"Lengths:\", len(AA), len(AG))\n",
    "debug(\"Square:\", AA.square())\n",
    "debug(\"Norm:\", AA.norm())\n",
    "debug(\"Inverse:\", AA.inverse(), 1 / AA)\n",
    "debug(\"Cacheing:\", H.__mul__.cache_info())"
   ]
  },
  {
   "cell_type": "markdown",
   "id": "a64fa6eb",
   "metadata": {},
   "source": [
    "### **`HyperComplex Methods`**"
   ]
  },
  {
   "cell_type": "code",
   "execution_count": 3,
   "id": "bbd9726d",
   "metadata": {},
   "outputs": [
    {
     "name": "stdout",
     "output_type": "stream",
     "text": [
      "Real Part:\n",
      "1.0\n",
      "\n",
      "Imaginary Part:\n",
      "(2.0, 3.0, 4.0)\n",
      "\n",
      "Coefficients:\n",
      "(1.0, 2.0, 3.0, 4.0)\n",
      "\n",
      "Conjugate:\n",
      "(1.0, -2.0, -3.0, -4.0)\n",
      "\n"
     ]
    }
   ],
   "source": [
    "debug(\"Real Part:\", AA.real)\n",
    "debug(\"Imaginary Part:\", AA.imag)\n",
    "debug(\"Coefficients:\", AA.coefficients())\n",
    "debug(\"Conjugate:\", AA.conjugate())"
   ]
  },
  {
   "cell_type": "code",
   "execution_count": 4,
   "id": "6e71799d",
   "metadata": {},
   "outputs": [
    {
     "name": "stdout",
     "output_type": "stream",
     "text": [
      "String Format:\n",
      "1 + 2i + 3j + 4k\n",
      "\n",
      "String Format:\n",
      "1 - 2i - 3j - 4k\n",
      "\n",
      "Tuple Format:\n",
      "(1.0, 2.0, 3.0, 4.0)\n",
      "\n",
      "List Format:\n",
      "[1.0, 2.0, 3.0, 4.0]\n",
      "\n",
      "Object Format:\n",
      "(1.0, 2.0, 3.0, 4.0)\n",
      "\n"
     ]
    }
   ],
   "source": [
    "debug(\"String Format:\", AA.asstring(translate=True))\n",
    "debug(\"String Format:\", AE.asstring(translate=True))\n",
    "debug(\"Tuple Format:\", AA.astuple())\n",
    "debug(\"List Format:\", AA.aslist())\n",
    "debug(\"Object Format:\", AA.asobject())"
   ]
  },
  {
   "cell_type": "markdown",
   "id": "4d13fb13",
   "metadata": {},
   "source": [
    "### **`HyperComplex Products`**\n",
    "\n",
    "Various vector products.\n",
    "\n",
    "#### **`Inner Product`**\n",
    "\n",
    "The inner product (also known as dot or scalar product), is the product of the Euclidean magnitudes of the two vectors and the cosine of the angle between them. In the case of vector spaces, the inner product is used for defining lengths (the length of a vector is the square root of the inner product of the vector by itself) and angles (the cosine of the angle of two vectors is the quotient of their inner product by the product of their lengths). \n",
    "\n",
    "The inner product is commutative: \n",
    "\n",
    "&#10092; A &vert; B &#10093; = A &middot; B = A<sub>&mu;</sub> B<sup>&nu;</sup>\n",
    "\n",
    "#### **`Outer Product`**\n",
    "\n",
    "The outer product (also known as Kroneecker or tensor product) of two coordinate vectors is a matrix. If the two vectors have dimensions n and m, then their outer product is an n × m matrix. More generally, given two tensors (multidimensional arrays of numbers), their outer product is a tensor. The outer product of tensors is also referred to as their tensor product and can be used to define the tensor algebra. \n",
    "\n",
    "The outer product is anti-commutative. \n",
    "\n",
    "&vert; A &#10093; &#10092; B &vert; = A &otimes; B = A<sup>&mu;</sup> B<sub>&nu;</sub>\n",
    "\n",
    "#### **`Hadamard Product`**\n",
    "\n",
    "The Hadamard product (also known as the element-wise, entrywise or Schur product) is a binary operation that takes two matrices of the same dimensions and produces another matrix of the same dimension as the operands where each element i, j is the product of elements i, j of the original two matrices. It should not be confused with the more common matrix product. \n",
    "\n",
    "The Hadamard product is associative, distributive and commutative. \n",
    "\n",
    "&#10092; A &vert; &#10092; B &vert; = A &odot; B = A<sub>&mu;</sub> B<sub>&nu;</sub>\n",
    "\n",
    "&vert; A &#10093; &vert; B &#10093; = A &odot; B = A<sub>&mu;</sub> B<sub>&nu;</sub>"
   ]
  },
  {
   "cell_type": "code",
   "execution_count": 5,
   "id": "cf8a9c6f",
   "metadata": {},
   "outputs": [
    {
     "name": "stdout",
     "output_type": "stream",
     "text": [
      "Inner Product:\n",
      "30.0\n",
      "\n",
      "Outer Product:\n",
      " 1  -2i  -3j  -4k\n",
      "2i    4  -6k   8j\n",
      "3j   6k    9 -12i\n",
      "4k  -8j  12i   16\n",
      "\n",
      "Hadamard Product:\n",
      "(1.0, 4.0, 9.0, 16.0)\n",
      "\n"
     ]
    }
   ],
   "source": [
    "debug(\"Inner Product:\", AA.innerproduct(AB))\n",
    "debug(\"Outer Product:\", AA.outerproduct(AB, asstring=True, translate=True))\n",
    "debug(\"Hadamard Product:\", AA.hadamardproduct(AB, asobject=True))"
   ]
  },
  {
   "cell_type": "markdown",
   "id": "5560c288",
   "metadata": {},
   "source": [
    "### **`HyperComplex Multiplication Matricies`**\n",
    "\n",
    "These can have various options to alter how the data is handed back, `asstring=True` will output the array as a string, adding by default `e0, e1, ...` as the index names, however you can add `translate=True` to change them to `1 + i + j + k, ...` format.  You can also use custom indexes by either changing the `element=e` option or `indices=1ijkmIJKnpqrMPQR` option.\n",
    "\n",
    "If you select `asobject=True (default)` then the function will output list of HyperComplex objects, `astuple=True` and `aslist=True` will return a tuple or list array accordingly.  There is also `asindex=True`, which returns the sign and index id for each cell."
   ]
  },
  {
   "cell_type": "code",
   "execution_count": 6,
   "id": "c145d247",
   "metadata": {},
   "outputs": [
    {
     "name": "stdout",
     "output_type": "stream",
     "text": [
      "String Matrix:\n",
      "1  i  j  k  L  I  J  K\n",
      "i -1  k -j  I -L -K  J\n",
      "j -k -1  i  J  K -L -I\n",
      "k  j -i -1  K -J  I -L\n",
      "L -I -J -K -1  i  j  k\n",
      "I  L -K  J -i -1 -k  j\n",
      "J  K  L -I -j  k -1 -i\n",
      "K -J  I  L -k -j  i -1\n",
      "\n",
      "Index Matrix:\n",
      "1  2  3  4  5  6  7  8\n",
      "2 -1  4 -3  6 -5 -8  7\n",
      "3 -4 -1  2  7  8 -5 -6\n",
      "4  3 -2 -1  8 -7  6 -5\n",
      "5 -6 -7 -8 -1  2  3  4\n",
      "6  5 -8  7 -2 -1 -4  3\n",
      "7  8  5 -6 -3  4 -1 -2\n",
      "8 -7  6  5 -4 -3  2 -1\n",
      "\n"
     ]
    }
   ],
   "source": [
    "debug(\"String Matrix:\", AF.matrix(asstring=True, translate=True))\n",
    "debug(\"Index Matrix:\", AF.matrix(asindex=True, asstring=True))"
   ]
  },
  {
   "cell_type": "code",
   "execution_count": 7,
   "id": "2fce19cb",
   "metadata": {},
   "outputs": [
    {
     "name": "stdout",
     "output_type": "stream",
     "text": [
      "String Matrix:\n",
      "1  a  b  c  d  e  f  g\n",
      "a -1  c -b  e -d -g  f\n",
      "b -c -1  a  f  g -d -e\n",
      "c  b -a -1  g -f  e -d\n",
      "d -e -f -g -1  a  b  c\n",
      "e  d -g  f -a -1 -c  b\n",
      "f  g  d -e -b  c -1 -a\n",
      "g -f  e  d -c -b  a -1\n",
      "\n",
      "Object Matrix:\n",
      "[[(1.0, 0.0, 0.0, 0.0), (0.0, 1.0, 0.0, 0.0), (0.0, 0.0, 1.0, 0.0), (0.0, 0.0, 0.0, 1.0)], [(0.0, 1.0, 0.0, 0.0), (-1.0, 0.0, 0.0, 0.0), (-0.0, 0.0, 0.0, 1.0), (-0.0, 0.0, -1.0, 0.0)], [(0.0, 0.0, 1.0, 0.0), (0.0, 0.0, 0.0, -1.0), (-1.0, 0.0, 0.0, 0.0), (0.0, 1.0, 0.0, 0.0)], [(0.0, 0.0, 0.0, 1.0), (0.0, 0.0, 1.0, 0.0), (0.0, -1.0, 0.0, 0.0), (-1.0, 0.0, -0.0, 0.0)]]\n",
      "\n"
     ]
    }
   ],
   "source": [
    "debug(\"String Matrix:\", AF.matrix(asstring=True, translate=True, indices=\"1abcdefgh\"))\n",
    "debug(\"Object Matrix:\", AA.matrix(asobject=True))"
   ]
  }
 ],
 "metadata": {
  "interpreter": {
   "hash": "9aab921455daf93c5b5e512768862be38eb2d6dcc418fdb7d8b034605503ac32"
  },
  "kernelspec": {
   "display_name": "Python 3.8.12 64-bit ('base': conda)",
   "name": "python3"
  },
  "language_info": {
   "codemirror_mode": {
    "name": "ipython",
    "version": 3
   },
   "file_extension": ".py",
   "mimetype": "text/x-python",
   "name": "python",
   "nbconvert_exporter": "python",
   "pygments_lexer": "ipython3",
   "version": "3.9.12"
  }
 },
 "nbformat": 4,
 "nbformat_minor": 5
}
