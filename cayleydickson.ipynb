{
 "cells": [
  {
   "cell_type": "markdown",
   "id": "4e1671f9",
   "metadata": {},
   "source": [
    "## **`HyperComplex Python Library`**\n",
    "\n",
    "A Python library for working with quaternions, octonions, sedenions, and beyond following the Cayley-Dickson construction of hypercomplex numbers.\n",
    "\n",
    "The [complex numbers](https://en.wikipedia.org/wiki/Complex_number) may be viewed as an extension of the everyday [real numbers](https://en.wikipedia.org/wiki/Real_number). A complex number has two real-number coefficients, one multiplied by 1, the other multiplied by [i](https://en.wikipedia.org/wiki/Imaginary_unit).\n",
    "\n",
    "In a similar way, a [quaternion](https://en.wikipedia.org/wiki/Quaternion), which has 4 components, can be constructed by combining two complex numbers. Likewise, two quaternions can construct an [octonion](https://en.wikipedia.org/wiki/Octonion) (8 components), and two octonions can construct a [sedenion](https://en.wikipedia.org/wiki/Sedenion) (16 components).\n",
    "\n",
    "The method for this construction is known as the [Cayley-Dickson construction](https://en.wikipedia.org/wiki/Cayley%E2%80%93Dickson_construction) and the resulting classes of numbers are types of [hypercomplex numbers](https://en.wikipedia.org/wiki/Hypercomplex_number). There is no limit to the number of times you can repeat the Cayley-Dickson construction to create new types of hypercomplex numbers, doubling the number of components each time.\n",
    "\n",
    "This Python 3 package allows the creation of number classes at any repetition level of Cayley-Dickson constructions, and has built-ins for the lower, named levels such as quaternion, octonion, and sedenion.\n",
    "\n",
    "#### **`Special Thanks`**\n",
    "\n",
    "This package is a combination of the work done by [discretegames](https://github.com/discretegames) providing the [mathdunders](https://github.com/discretegames/mathdunders) and most of the [hypercomplex](https://github.com/discretegames/hypercomplex) base functionality, but also [thoppe](https://github.com/thoppe) for providing the base graphical plot functionality from [cayley-dickson](https://github.com/thoppe/Cayley-Dickson).\n",
    "\n",
    "This library however has been taylored to use ***`Jupiter Notebook`***, and the native notebook functionality of Visual Studio Code rather than work as command line tools.  I have also added to these base packages, functionality for `inner, outer and hadamard products`.\n",
    "\n",
    "#### **`Requirements`**\n",
    "\n",
    "The following packages are required, specifially for the graphical functionality, if you remove the HyperComplex.group() and HyperComplex.plot() methods, you no longer need these requirements and the package can work standalone:\n",
    "\n",
    "- numpy\n",
    "- pylab\n",
    "- itertools\n",
    "- matplotlib\n",
    "- graph_tool\n",
    "- graph_tool.draw\n",
    "- seaborn\n",
    "- networkx"
   ]
  },
  {
   "cell_type": "markdown",
   "id": "99b595a8",
   "metadata": {},
   "source": [
    "##### **`Import HyperComplex Library`**"
   ]
  },
  {
   "cell_type": "code",
   "execution_count": 1,
   "id": "3e1ea13e",
   "metadata": {},
   "outputs": [],
   "source": [
    "from hypercomplex import *"
   ]
  },
  {
   "cell_type": "markdown",
   "id": "44fdd7e5",
   "metadata": {},
   "source": [
    "##### **`Basic Usage`**\n",
    "\n",
    "You can any of the following:\n",
    "\n",
    "- `R`, `Real` for real numbers (1 bit)\n",
    "- `C`, `Complex` for complex numbers (2 bit)\n",
    "- `H`, `Q`, `Quaternion` for quaternion numbers (4 bit)\n",
    "- `O`, `Octonion` for octonion numbers (8 bit)\n",
    "- `S`, `Sedenion` for sedenion numbers (16 bit)\n",
    "- `P`, `Pathion` for pathion numbers (32 bit)\n",
    "- `X`, `Chingon` for chingon numbers (64 bit)\n",
    "- `U`, `Routon` for routon numbers (128 bit)\n",
    "- `V`, `Voudon` for voudon numbers (256 bit)\n",
    "\n",
    "Higher order numbers can be created using the function `cayley_dickson_construction(N)` where N is the previous basis of the one you are trying to create."
   ]
  },
  {
   "cell_type": "code",
   "execution_count": 2,
   "id": "bfcad154-58dc-425e-9b3b-05f7f36f26c8",
   "metadata": {},
   "outputs": [
    {
     "name": "stdout",
     "output_type": "stream",
     "text": [
      "(1 2 3 4 0 0 0 0)\n",
      "(0 0 0 0 1 2 3 4)\n",
      "(2 4 6 8)\n",
      "True\n",
      "4\n",
      "512\n",
      "30.0\n",
      "5.477225575051661\n",
      "(0.0333333 -0.0666667 -0.1 -0.133333)\n"
     ]
    }
   ],
   "source": [
    "AA = H(1,2,3,4)\n",
    "AB = H(Complex(1,2),C(3,4))\n",
    "AC = H((1,2),(3,4))\n",
    "AD = H((1,2,3,4))\n",
    "AE = H([1,2,3,4])\n",
    "AF = O()\n",
    "AG = cayley_dickson_construction(V)()\n",
    "\n",
    "print(AF + AA)\n",
    "print(AF + O(0,AA))\n",
    "print(2 * AA)\n",
    "print(AA == (1,2,3,4))\n",
    "print(len(AA))\n",
    "print(len(AG))\n",
    "print(AA.square())\n",
    "print(AA.norm())\n",
    "print(AA.inverse())"
   ]
  },
  {
   "cell_type": "markdown",
   "id": "a64fa6eb",
   "metadata": {},
   "source": [
    "##### **`HyperComplex Methods`**"
   ]
  },
  {
   "cell_type": "code",
   "execution_count": 3,
   "id": "bbd9726d",
   "metadata": {},
   "outputs": [
    {
     "name": "stdout",
     "output_type": "stream",
     "text": [
      "Real Part:\n",
      " 1.0 \n",
      "\n",
      "Imaginary Part:\n",
      " (2.0, 3.0, 4.0) \n",
      "\n",
      "Coefficients:\n",
      " (1.0, 2.0, 3.0, 4.0) \n",
      "\n",
      "Conjugate Transpose:\n",
      " (1 -2 -3 -4) \n",
      "\n",
      "Inner Product:\n",
      " 30.0 \n",
      "\n",
      "Outer Product:\n",
      "    1  -2.0i  -3.0j  -4.0k\n",
      "2.0i    4.0  -6.0k   8.0j\n",
      "3.0j   6.0k    9.0 -12.0i\n",
      "4.0k  -8.0j  12.0i   16.0 \n",
      "\n",
      "Hadamard Product:\n",
      " (1 4 9 16)\n"
     ]
    }
   ],
   "source": [
    "print(\"Real Part:\\n\",           AA.real, \"\\n\")\n",
    "print(\"Imaginary Part:\\n\",      AA.imag, \"\\n\")\n",
    "print(\"Coefficients:\\n\",        AA.coefficients(), \"\\n\")\n",
    "print(\"Conjugate Transpose:\\n\", AA.conjugate(), \"\\n\")\n",
    "print(\"Inner Product:\\n\",       AA.innerproduct(AB), \"\\n\")\n",
    "print(\"Outer Product:\\n\",       AA.outerproduct(AB, asstring=True, translate=True), \"\\n\")\n",
    "print(\"Hadamard Product:\\n\",    AA.hadamardproduct(AB, asobject=True))"
   ]
  },
  {
   "cell_type": "markdown",
   "id": "5560c288",
   "metadata": {},
   "source": [
    "#### **`HyperComplex Multiplication Matricies`**\n",
    "\n",
    "These can have various options to alter how the data is handed back, `asstring=True` will output the array as a string, adding by default `e0, e1, ...` as the index names, however you can add `translate=True` to change them to `1 + i + j + k, ...` format.  You can also use custom indexes by either changing the `element=e` option or `translations=1ijkmIJKnpqrMPQR` option.\n",
    "\n",
    "If you select `asobject=True` then the function will output HyperComplex objects, and `asnumber=True` will return a list array.  There is also `asgroups=True` and `asplots=True`, however they are mainly used to facilitate the graphical features of the library."
   ]
  },
  {
   "cell_type": "code",
   "execution_count": 4,
   "id": "c145d247",
   "metadata": {},
   "outputs": [
    {
     "name": "stdout",
     "output_type": "stream",
     "text": [
      "Multiplication Matrix:\n",
      " 1  i  j  k\n",
      "i -1  k -j\n",
      "j -k -1  i\n",
      "k  j -i -1 \n",
      "\n",
      "Multiplication ID:\n",
      " 1  2  3  4\n",
      "2 -1  4 -3\n",
      "3 -4 -1  2\n",
      "4  3 -2 -1\n"
     ]
    }
   ],
   "source": [
    "print(\"Multiplication Matrix:\\n\", AA.matrix(asstring=True, translate=True), \"\\n\")\n",
    "print(\"Multiplication ID:\\n\",     AA.matrix(asplots=True, asstring=True))"
   ]
  },
  {
   "cell_type": "markdown",
   "id": "5f01f692",
   "metadata": {},
   "source": [
    "#### **`HyperComplex Graphical Methods`**\n",
    "\n",
    "For the `HyperComplex.plot()` method, which produces images so we can visualize the multiplication tables with a diverging colormap. Red values are positive, blue values are negative. For example, with the complex numbers 1 => least red, i => most red, -1 => least blue, -i => most blue. Additionally, for the smaller algebras, we can construct the [Cayley Graph](http://en.wikipedia.org/wiki/Cayley_graph) using `HyperComplex.graph()` as shown below for quaternions.  Both methods gain the order from the parent class calling it."
   ]
  },
  {
   "cell_type": "markdown",
   "id": "26583e25",
   "metadata": {},
   "source": [
    "#### **`Complex Numbers`**\n",
    "\n",
    "A [complex number](http://en.wikipedia.org/wiki/Complex_number) is a number that can be expressed in the form `a + bi`, where `a` and `b` are real numbers and `i` is the imaginary unit. They are a normed division algebra over the real numbers. There is no natural linear ordering (commutativity) on the set of complex numbers.\n",
    "\n",
    "![Complex](group2.png \"Complex\")\n",
    "![Complex](complex.png \"Complex\")"
   ]
  },
  {
   "cell_type": "code",
   "execution_count": 5,
   "id": "9ff8e42f",
   "metadata": {},
   "outputs": [],
   "source": [
    "# Complex().group(translate=True)\n",
    "# Complex().plot(diverging=True)\n",
    "# Disabled: Takes less than 1s"
   ]
  },
  {
   "cell_type": "markdown",
   "id": "93285414",
   "metadata": {},
   "source": [
    "#### **`Quaternion Numbers`**\n",
    "\n",
    "[Quaternions](http://en.wikipedia.org/wiki/Quaternion) are a normed division algebra over the real numbers that can be expressed in the form `a + bi + cj + dk`, where `a`, `b`, `c` and `d` are real numbers and `i`, `j`, `k` are the imaginary units.  They are noncommutative. The unit quaternions can be thought of as a choice of a group structure on the 3-sphere S3 that gives the group Spin(3), which is isomorphic to SU(2) and also to the universal cover of SO(3).\n",
    "\n",
    "![Quaternions](group4.png \"Quaternions\")\n",
    "![Quaternions](quaternion.png \"Quaternions\")"
   ]
  },
  {
   "cell_type": "code",
   "execution_count": 6,
   "id": "cc8a6bb1",
   "metadata": {},
   "outputs": [],
   "source": [
    "# Quaternion().group(translate=True)\n",
    "# Quaternion().plot(diverging=True)\n",
    "# Disabled: Will take less than 1s"
   ]
  },
  {
   "cell_type": "markdown",
   "id": "0d966bb0",
   "metadata": {},
   "source": [
    "#### **`Octonion Numbers`**\n",
    "\n",
    "[Octonions](http://en.wikipedia.org/wiki/Octonion) are a normed division algebra over the real numbers. They are noncommutative and nonassociative, but satisfy a weaker form of associativity, namely they are alternative. The Cayley graph is hard project into two-dimensions, there overlapping edges along the diagonals. That can be expressed in the form `a + bi + cj + dk + em + fI + gJ + hK`, where `a .. h` are real numbers and `i, j, k, m, I, J, K` are the imaginary units.\n",
    "\n",
    "The Cayley graph is hard project into two-dimensions, there overlapping edges along the diagonals.\n",
    "\n",
    "![Octionion](group8.png \"Octonion\")\n",
    "![Octonion](octonion.png \"Octonion\")"
   ]
  },
  {
   "cell_type": "code",
   "execution_count": 7,
   "id": "c8be972e",
   "metadata": {},
   "outputs": [],
   "source": [
    "# Octonion().group(translate=True)\n",
    "# Octonion().plot(diverging=True)\n",
    "# Disabled: Should take less than 1s"
   ]
  },
  {
   "cell_type": "markdown",
   "id": "d05dbd47",
   "metadata": {},
   "source": [
    "#### **`Sedenion Numbers`**\n",
    "\n",
    "[Sedenion](http://en.wikipedia.org/wiki/Sedenion) orm a 16-dimensional noncommutative and nonassociative algebra over the reals obtained by applying the Cayley–Dickson construction to the octonions. That can be expressed in the form `a + i + j + k + m + I + J + K...`, where `a...` are real numbers and `i, j, k, m, I, J, K, n, p, q, r, M, P, Q, R` are the imaginary units.\n",
    "\n",
    "![Sedenion](sedenion.png \"Sedenion\")"
   ]
  },
  {
   "cell_type": "code",
   "execution_count": 8,
   "id": "c8cec8f9",
   "metadata": {},
   "outputs": [],
   "source": [
    "# Sedenion().plot(diverging=True)\n",
    "# Disabled: Should take less than 1s"
   ]
  },
  {
   "cell_type": "markdown",
   "id": "957a8932",
   "metadata": {},
   "source": [
    "#### **`Pathion Numbers`**\n",
    "\n",
    "Pathions form a 32-dimensional algebra over the reals obtained by applying the Cayley–Dickson construction to the sedenions.\n",
    "\n",
    "![Pathion](pathion.png \"Pathion\")"
   ]
  },
  {
   "cell_type": "code",
   "execution_count": 9,
   "id": "6a726983",
   "metadata": {},
   "outputs": [],
   "source": [
    "# Pathion().plot(diverging=True)\n",
    "# Disabled: Should take about 8s"
   ]
  },
  {
   "cell_type": "markdown",
   "id": "c93be95e",
   "metadata": {},
   "source": [
    "#### **`Chingon Numbers`**\n",
    "\n",
    "Chingons form a 64-dimensional algebra over the reals obtained by applying the Cayley–Dickson construction to the pathion.\n",
    "\n",
    "\n",
    "![Chingon](chingon.png \"Chingon\")"
   ]
  },
  {
   "cell_type": "code",
   "execution_count": 10,
   "id": "c46466de",
   "metadata": {},
   "outputs": [],
   "source": [
    "# Chingon().plot(diverging=True)\n",
    "# Disabled: Can take 1m50s"
   ]
  },
  {
   "cell_type": "markdown",
   "id": "afd4fa09",
   "metadata": {},
   "source": [
    "#### **`Routon Numbers`**\n",
    "\n",
    "Routons form a 128-dimensional algebra over the reals obtained by applying the Cayley–Dickson construction to the chingons.\n",
    "\n",
    "![Routon](routon.png \"Routon\")"
   ]
  },
  {
   "cell_type": "code",
   "execution_count": 11,
   "id": "cd3bfdca",
   "metadata": {},
   "outputs": [],
   "source": [
    "# Routon().plot(diverging=True)\n",
    "# Disabled: Takes a very long time"
   ]
  },
  {
   "cell_type": "markdown",
   "id": "31d70f6e",
   "metadata": {},
   "source": [
    "#### **`Voudon Numbers`**\n",
    "\n",
    "Voudons form a 256-dimensional algebra over the reals obtained by applying the Cayley–Dickson construction to the routons.\n",
    "\n",
    "![Voudon](voudon.png \"Voudon\")"
   ]
  },
  {
   "cell_type": "code",
   "execution_count": 12,
   "id": "f639a57f",
   "metadata": {},
   "outputs": [],
   "source": [
    "# Voudon().plot(diverging=True)\n",
    "# Disabled: Takes a very, very long time"
   ]
  }
 ],
 "metadata": {
  "interpreter": {
   "hash": "9aab921455daf93c5b5e512768862be38eb2d6dcc418fdb7d8b034605503ac32"
  },
  "kernelspec": {
   "display_name": "Python 3.8.12 64-bit ('base': conda)",
   "name": "python3"
  },
  "language_info": {
   "codemirror_mode": {
    "name": "ipython",
    "version": 3
   },
   "file_extension": ".py",
   "mimetype": "text/x-python",
   "name": "python",
   "nbconvert_exporter": "python",
   "pygments_lexer": "ipython3",
   "version": "3.9.10"
  }
 },
 "nbformat": 4,
 "nbformat_minor": 5
}
