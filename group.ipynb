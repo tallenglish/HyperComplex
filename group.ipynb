{
 "cells": [
  {
   "cell_type": "markdown",
   "metadata": {},
   "source": [
    "### **`HyperComplex Group Method`**\n",
    "\n",
    "For the smaller algebras (up to Pathion), we can construct the [Cayley Graph](http://en.wikipedia.org/wiki/Cayley_graph) using `HyperComplex.graph()` to display the various rotations of various imaginary indices as shown below for quaternions.\n",
    "\n",
    "When displaying edges, the color of the edge will be the same as the vertex points they relate to, E.g. `i` will always be `red`, `j` will be `green` and so on.  Negative rotations will be displayed in a darker variant of the color to stand out.\n",
    "\n",
    "Default Options:\n",
    "\n",
    "- `order=None` : order of the hyper complex object to use.\n",
    "- `filename=\"G{order}.{filetype}\"` : images filename E.g. G3.png.\n",
    "- `filetype=\"png\"` : the file extension used above.\n",
    "- `figsize=6.0` : figure size in inches.\n",
    "- `figdpi=100.0` : figure dpi (pixels per inch).\n",
    "- `fontsize=14` : font size used for labels.\n",
    "- `element=\"e\"` : used when displaying as string, but not translating to index.\n",
    "- `indices=\"1ijkLIJKmpqrMPQRnstuNSTUovwxOVWX\"` : used to translate indicies.\n",
    "- `layers=\"...\"` : select which rotations to display, can be positive or negative.\n",
    "- `translate=False` : tranlates the indicies for easy reading.\n",
    "- `positives=False` : show all positive translations.\n",
    "- `negatives=False` : show all negative rotations.\n",
    "- `undirected=False` : dont show arrows indicating direction of rotation.\n",
    "- `translate=False` : tranlates the indicies for easy reading.\n",
    "- `showall=False` : show all rotations.\n",
    "- `show=False` : show figure to screen.\n",
    "- `save=False` : save figure to disk.\n",
    "\n",
    "### **`Import Group Library`**"
   ]
  },
  {
   "cell_type": "code",
   "execution_count": null,
   "metadata": {},
   "outputs": [],
   "source": [
    "from group import *"
   ]
  },
  {
   "cell_type": "markdown",
   "metadata": {},
   "source": [
    "### **`Complex Numbers`**\n",
    "\n",
    "A [complex number](http://en.wikipedia.org/wiki/Complex_number) is a number that can be expressed in the form `a + bi`, where `a` and `b` are real numbers and `i` is the imaginary unit, imaginary being the root of a negative square number `i = sqrt(-1)`. They are a normed division algebra over the real numbers. There is no natural linear ordering (commutativity) on the set of complex numbers."
   ]
  },
  {
   "cell_type": "code",
   "execution_count": null,
   "metadata": {},
   "outputs": [],
   "source": [
    "group(None, order=1, translate=True, show=True, figsize=8)"
   ]
  },
  {
   "cell_type": "markdown",
   "metadata": {},
   "source": [
    "### **`Quaternion Numbers`**\n",
    "\n",
    "[Quaternions](http://en.wikipedia.org/wiki/Quaternion) are a normed division algebra over the real numbers that can be expressed in the form `a + bi + cj + dk`, where `a`, `b`, `c` and `d` are real numbers and `i`, `j`, `k` are the imaginary units.  They are noncommutative. The unit quaternions can be thought of as a choice of a group structure on the 3-sphere S3 that gives the group Spin(3), which is isomorphic to SU(2) and also to the universal cover of SO(3)."
   ]
  },
  {
   "cell_type": "code",
   "execution_count": null,
   "metadata": {},
   "outputs": [],
   "source": [
    "group(None, order=2, translate=True, show=True, figsize=8, layers=\"i,j,k\")"
   ]
  },
  {
   "cell_type": "markdown",
   "metadata": {},
   "source": [
    "### **`Octonion Numbers`**\n",
    "\n",
    "[Octonions](http://en.wikipedia.org/wiki/Octonion) are a normed division algebra over the real numbers. They are noncommutative and nonassociative, but satisfy a weaker form of associativity, namely they are alternative. The Cayley graph is hard project into two-dimensions, there overlapping edges along the diagonals. That can be expressed in the form `a + bi + cj + dk + eL + fI + gJ + hK`, where `a .. h` are real numbers and `i, j, k, L, I, J, K` are the imaginary units."
   ]
  },
  {
   "cell_type": "code",
   "execution_count": null,
   "metadata": {},
   "outputs": [],
   "source": [
    "group(None, order=3, translate=True, show=True, figsize=8, layers=\"i\")"
   ]
  },
  {
   "cell_type": "markdown",
   "metadata": {},
   "source": [
    "### **`Sedenion Numbers`**\n",
    "\n",
    "[Sedenion](http://en.wikipedia.org/wiki/Sedenion) orm a 16-dimensional noncommutative and nonassociative algebra over the reals obtained by applying the Cayley–Dickson construction to the octonions. That can be expressed in the form `a + i + j + k + L + I + J + K...`, where `a...` are real numbers and `i, j, k, L, I, J, K, m, p, q, r, M, P, Q, R` are the imaginary units.\n",
    "\n",
    "Now things are getting messy, we will only show the positive layers, for each of the four main rotational groups, `L,i,j,k`, `L,I,J,K` as for Octonions and their duals `m,p,q,r` and `M,P,Q,R`.  Even as they are, it is still hard to visualise, but displaying fewer layers per image will rectify that, you need to display a minimum of one layer - so you could just display singular rotational groups for maximum readability."
   ]
  },
  {
   "cell_type": "code",
   "execution_count": null,
   "metadata": {},
   "outputs": [],
   "source": [
    "group(None, order=4, translate=True, show=True, figsize=8, layers=\"i\")"
   ]
  },
  {
   "cell_type": "markdown",
   "metadata": {},
   "source": [
    "### **`Pathion Numbers`**\n",
    "\n",
    "Pathions form a 32-dimensional algebra over the reals obtained by applying the Cayley–Dickson construction to the sedenions."
   ]
  },
  {
   "cell_type": "code",
   "execution_count": null,
   "metadata": {},
   "outputs": [],
   "source": [
    "group(None, order=5, translate=True, show=True, figsize=8, layers=\"i\")"
   ]
  }
 ],
 "metadata": {
  "interpreter": {
   "hash": "9aab921455daf93c5b5e512768862be38eb2d6dcc418fdb7d8b034605503ac32"
  },
  "kernelspec": {
   "display_name": "Python 3.9.10 ('base')",
   "language": "python",
   "name": "python3"
  },
  "language_info": {
   "codemirror_mode": {
    "name": "ipython",
    "version": 3
   },
   "file_extension": ".py",
   "mimetype": "text/x-python",
   "name": "python",
   "nbconvert_exporter": "python",
   "pygments_lexer": "ipython3",
   "version": "3.9.2"
  },
  "orig_nbformat": 4
 },
 "nbformat": 4,
 "nbformat_minor": 2
}
